{
 "cells": [
  {
   "cell_type": "code",
   "execution_count": 1,
   "metadata": {},
   "outputs": [],
   "source": [
    "# Logistic Regression\n",
    "\n",
    "# Importing the libraries\n",
    "import numpy as np\n",
    "import matplotlib.pyplot as plt\n",
    "import pandas as pd\n",
    "\n",
    "\n",
    "\n"
   ]
  },
  {
   "cell_type": "code",
   "execution_count": 2,
   "metadata": {},
   "outputs": [],
   "source": [
    "# Importing the dataset\n",
    "dataset = pd.read_csv('Social_Network_Ads.csv')\n",
    "\n",
    "\n"
   ]
  },
  {
   "cell_type": "code",
   "execution_count": 3,
   "metadata": {},
   "outputs": [
    {
     "data": {
      "text/html": [
       "<div>\n",
       "<style scoped>\n",
       "    .dataframe tbody tr th:only-of-type {\n",
       "        vertical-align: middle;\n",
       "    }\n",
       "\n",
       "    .dataframe tbody tr th {\n",
       "        vertical-align: top;\n",
       "    }\n",
       "\n",
       "    .dataframe thead th {\n",
       "        text-align: right;\n",
       "    }\n",
       "</style>\n",
       "<table border=\"1\" class=\"dataframe\">\n",
       "  <thead>\n",
       "    <tr style=\"text-align: right;\">\n",
       "      <th></th>\n",
       "      <th>User ID</th>\n",
       "      <th>Gender</th>\n",
       "      <th>Age</th>\n",
       "      <th>EstimatedSalary</th>\n",
       "      <th>Purchased</th>\n",
       "    </tr>\n",
       "  </thead>\n",
       "  <tbody>\n",
       "    <tr>\n",
       "      <th>0</th>\n",
       "      <td>15624510</td>\n",
       "      <td>Male</td>\n",
       "      <td>19</td>\n",
       "      <td>19000</td>\n",
       "      <td>0</td>\n",
       "    </tr>\n",
       "    <tr>\n",
       "      <th>1</th>\n",
       "      <td>15810944</td>\n",
       "      <td>Male</td>\n",
       "      <td>35</td>\n",
       "      <td>20000</td>\n",
       "      <td>0</td>\n",
       "    </tr>\n",
       "    <tr>\n",
       "      <th>2</th>\n",
       "      <td>15668575</td>\n",
       "      <td>Female</td>\n",
       "      <td>26</td>\n",
       "      <td>43000</td>\n",
       "      <td>0</td>\n",
       "    </tr>\n",
       "    <tr>\n",
       "      <th>3</th>\n",
       "      <td>15603246</td>\n",
       "      <td>Female</td>\n",
       "      <td>27</td>\n",
       "      <td>57000</td>\n",
       "      <td>0</td>\n",
       "    </tr>\n",
       "    <tr>\n",
       "      <th>4</th>\n",
       "      <td>15804002</td>\n",
       "      <td>Male</td>\n",
       "      <td>19</td>\n",
       "      <td>76000</td>\n",
       "      <td>0</td>\n",
       "    </tr>\n",
       "  </tbody>\n",
       "</table>\n",
       "</div>"
      ],
      "text/plain": [
       "    User ID  Gender  Age  EstimatedSalary  Purchased\n",
       "0  15624510    Male   19            19000          0\n",
       "1  15810944    Male   35            20000          0\n",
       "2  15668575  Female   26            43000          0\n",
       "3  15603246  Female   27            57000          0\n",
       "4  15804002    Male   19            76000          0"
      ]
     },
     "execution_count": 3,
     "metadata": {},
     "output_type": "execute_result"
    }
   ],
   "source": [
    "dataset.head()"
   ]
  },
  {
   "cell_type": "code",
   "execution_count": 7,
   "metadata": {},
   "outputs": [
    {
     "data": {
      "text/plain": [
       "(400, 5)"
      ]
     },
     "execution_count": 7,
     "metadata": {},
     "output_type": "execute_result"
    }
   ],
   "source": [
    "dataset.shape"
   ]
  },
  {
   "cell_type": "code",
   "execution_count": 4,
   "metadata": {},
   "outputs": [
    {
     "data": {
      "text/plain": [
       "User ID            0\n",
       "Gender             0\n",
       "Age                0\n",
       "EstimatedSalary    0\n",
       "Purchased          0\n",
       "dtype: int64"
      ]
     },
     "execution_count": 4,
     "metadata": {},
     "output_type": "execute_result"
    }
   ],
   "source": [
    "dataset.isnull().sum()"
   ]
  },
  {
   "cell_type": "code",
   "execution_count": 5,
   "metadata": {},
   "outputs": [
    {
     "name": "stdout",
     "output_type": "stream",
     "text": [
      "<class 'pandas.core.frame.DataFrame'>\n",
      "RangeIndex: 400 entries, 0 to 399\n",
      "Data columns (total 5 columns):\n",
      " #   Column           Non-Null Count  Dtype \n",
      "---  ------           --------------  ----- \n",
      " 0   User ID          400 non-null    int64 \n",
      " 1   Gender           400 non-null    object\n",
      " 2   Age              400 non-null    int64 \n",
      " 3   EstimatedSalary  400 non-null    int64 \n",
      " 4   Purchased        400 non-null    int64 \n",
      "dtypes: int64(4), object(1)\n",
      "memory usage: 15.8+ KB\n"
     ]
    }
   ],
   "source": [
    "dataset.info()"
   ]
  },
  {
   "cell_type": "code",
   "execution_count": 6,
   "metadata": {},
   "outputs": [
    {
     "data": {
      "text/html": [
       "<div>\n",
       "<style scoped>\n",
       "    .dataframe tbody tr th:only-of-type {\n",
       "        vertical-align: middle;\n",
       "    }\n",
       "\n",
       "    .dataframe tbody tr th {\n",
       "        vertical-align: top;\n",
       "    }\n",
       "\n",
       "    .dataframe thead th {\n",
       "        text-align: right;\n",
       "    }\n",
       "</style>\n",
       "<table border=\"1\" class=\"dataframe\">\n",
       "  <thead>\n",
       "    <tr style=\"text-align: right;\">\n",
       "      <th></th>\n",
       "      <th>User ID</th>\n",
       "      <th>Age</th>\n",
       "      <th>EstimatedSalary</th>\n",
       "      <th>Purchased</th>\n",
       "    </tr>\n",
       "  </thead>\n",
       "  <tbody>\n",
       "    <tr>\n",
       "      <th>User ID</th>\n",
       "      <td>1.000000</td>\n",
       "      <td>-0.000721</td>\n",
       "      <td>0.071097</td>\n",
       "      <td>0.007120</td>\n",
       "    </tr>\n",
       "    <tr>\n",
       "      <th>Age</th>\n",
       "      <td>-0.000721</td>\n",
       "      <td>1.000000</td>\n",
       "      <td>0.155238</td>\n",
       "      <td>0.622454</td>\n",
       "    </tr>\n",
       "    <tr>\n",
       "      <th>EstimatedSalary</th>\n",
       "      <td>0.071097</td>\n",
       "      <td>0.155238</td>\n",
       "      <td>1.000000</td>\n",
       "      <td>0.362083</td>\n",
       "    </tr>\n",
       "    <tr>\n",
       "      <th>Purchased</th>\n",
       "      <td>0.007120</td>\n",
       "      <td>0.622454</td>\n",
       "      <td>0.362083</td>\n",
       "      <td>1.000000</td>\n",
       "    </tr>\n",
       "  </tbody>\n",
       "</table>\n",
       "</div>"
      ],
      "text/plain": [
       "                  User ID       Age  EstimatedSalary  Purchased\n",
       "User ID          1.000000 -0.000721         0.071097   0.007120\n",
       "Age             -0.000721  1.000000         0.155238   0.622454\n",
       "EstimatedSalary  0.071097  0.155238         1.000000   0.362083\n",
       "Purchased        0.007120  0.622454         0.362083   1.000000"
      ]
     },
     "execution_count": 6,
     "metadata": {},
     "output_type": "execute_result"
    }
   ],
   "source": [
    "dataset.corr()"
   ]
  },
  {
   "cell_type": "code",
   "execution_count": null,
   "metadata": {},
   "outputs": [],
   "source": []
  },
  {
   "cell_type": "code",
   "execution_count": null,
   "metadata": {},
   "outputs": [],
   "source": []
  },
  {
   "cell_type": "code",
   "execution_count": 9,
   "metadata": {},
   "outputs": [
    {
     "data": {
      "text/html": [
       "<div>\n",
       "<style scoped>\n",
       "    .dataframe tbody tr th:only-of-type {\n",
       "        vertical-align: middle;\n",
       "    }\n",
       "\n",
       "    .dataframe tbody tr th {\n",
       "        vertical-align: top;\n",
       "    }\n",
       "\n",
       "    .dataframe thead th {\n",
       "        text-align: right;\n",
       "    }\n",
       "</style>\n",
       "<table border=\"1\" class=\"dataframe\">\n",
       "  <thead>\n",
       "    <tr style=\"text-align: right;\">\n",
       "      <th></th>\n",
       "      <th>User ID</th>\n",
       "      <th>Gender</th>\n",
       "      <th>Age</th>\n",
       "      <th>EstimatedSalary</th>\n",
       "      <th>Purchased</th>\n",
       "    </tr>\n",
       "  </thead>\n",
       "  <tbody>\n",
       "    <tr>\n",
       "      <th>0</th>\n",
       "      <td>15624510</td>\n",
       "      <td>Male</td>\n",
       "      <td>19</td>\n",
       "      <td>19000</td>\n",
       "      <td>0</td>\n",
       "    </tr>\n",
       "    <tr>\n",
       "      <th>1</th>\n",
       "      <td>15810944</td>\n",
       "      <td>Male</td>\n",
       "      <td>35</td>\n",
       "      <td>20000</td>\n",
       "      <td>0</td>\n",
       "    </tr>\n",
       "    <tr>\n",
       "      <th>2</th>\n",
       "      <td>15668575</td>\n",
       "      <td>Female</td>\n",
       "      <td>26</td>\n",
       "      <td>43000</td>\n",
       "      <td>0</td>\n",
       "    </tr>\n",
       "    <tr>\n",
       "      <th>3</th>\n",
       "      <td>15603246</td>\n",
       "      <td>Female</td>\n",
       "      <td>27</td>\n",
       "      <td>57000</td>\n",
       "      <td>0</td>\n",
       "    </tr>\n",
       "    <tr>\n",
       "      <th>4</th>\n",
       "      <td>15804002</td>\n",
       "      <td>Male</td>\n",
       "      <td>19</td>\n",
       "      <td>76000</td>\n",
       "      <td>0</td>\n",
       "    </tr>\n",
       "  </tbody>\n",
       "</table>\n",
       "</div>"
      ],
      "text/plain": [
       "    User ID  Gender  Age  EstimatedSalary  Purchased\n",
       "0  15624510    Male   19            19000          0\n",
       "1  15810944    Male   35            20000          0\n",
       "2  15668575  Female   26            43000          0\n",
       "3  15603246  Female   27            57000          0\n",
       "4  15804002    Male   19            76000          0"
      ]
     },
     "execution_count": 9,
     "metadata": {},
     "output_type": "execute_result"
    }
   ],
   "source": [
    "dataset.head()"
   ]
  },
  {
   "cell_type": "code",
   "execution_count": 7,
   "metadata": {},
   "outputs": [],
   "source": [
    "X = dataset.iloc[:, [2, 3]].values   #  independent\n",
    "y = dataset.iloc[:, 4].values     # dependent"
   ]
  },
  {
   "cell_type": "code",
   "execution_count": 8,
   "metadata": {},
   "outputs": [],
   "source": [
    "# Splitting the dataset into the Training set and Test set\n",
    "from sklearn.model_selection import train_test_split\n",
    "X_train, X_test, y_train, y_test = train_test_split(X, y, test_size = 0.10, random_state = 0)\n",
    "\n"
   ]
  },
  {
   "cell_type": "code",
   "execution_count": 13,
   "metadata": {},
   "outputs": [
    {
     "data": {
      "text/plain": [
       "(360, 2)"
      ]
     },
     "execution_count": 13,
     "metadata": {},
     "output_type": "execute_result"
    }
   ],
   "source": [
    "X_train.shape"
   ]
  },
  {
   "cell_type": "code",
   "execution_count": 14,
   "metadata": {},
   "outputs": [
    {
     "data": {
      "text/plain": [
       "(40, 2)"
      ]
     },
     "execution_count": 14,
     "metadata": {},
     "output_type": "execute_result"
    }
   ],
   "source": [
    "X_test.shape"
   ]
  },
  {
   "cell_type": "code",
   "execution_count": 14,
   "metadata": {},
   "outputs": [
    {
     "data": {
      "text/plain": [
       "(360,)"
      ]
     },
     "execution_count": 14,
     "metadata": {},
     "output_type": "execute_result"
    }
   ],
   "source": [
    "y_train.shape"
   ]
  },
  {
   "cell_type": "code",
   "execution_count": 15,
   "metadata": {},
   "outputs": [
    {
     "data": {
      "text/plain": [
       "(40,)"
      ]
     },
     "execution_count": 15,
     "metadata": {},
     "output_type": "execute_result"
    }
   ],
   "source": [
    "y_test.shape"
   ]
  },
  {
   "cell_type": "code",
   "execution_count": 9,
   "metadata": {},
   "outputs": [
    {
     "name": "stderr",
     "output_type": "stream",
     "text": [
      "/home/shyam/anaconda3/lib/python3.7/site-packages/sklearn/linear_model/logistic.py:432: FutureWarning: Default solver will be changed to 'lbfgs' in 0.22. Specify a solver to silence this warning.\n",
      "  FutureWarning)\n"
     ]
    },
    {
     "data": {
      "text/plain": [
       "LogisticRegression(C=1.0, class_weight=None, dual=False, fit_intercept=True,\n",
       "                   intercept_scaling=1, l1_ratio=None, max_iter=100,\n",
       "                   multi_class='warn', n_jobs=None, penalty='l2',\n",
       "                   random_state=None, solver='warn', tol=0.0001, verbose=0,\n",
       "                   warm_start=False)"
      ]
     },
     "execution_count": 9,
     "metadata": {},
     "output_type": "execute_result"
    }
   ],
   "source": [
    "# Fitting Logistic Regression to the Training set\n",
    "from sklearn.linear_model import LogisticRegression\n",
    "classifier = LogisticRegression()\n",
    "classifier.fit(X_train, y_train)"
   ]
  },
  {
   "cell_type": "code",
   "execution_count": 10,
   "metadata": {},
   "outputs": [],
   "source": [
    "# Predicting the Test set results\n",
    "y_pred = classifier.predict(X_test)\n",
    "\n"
   ]
  },
  {
   "cell_type": "code",
   "execution_count": 18,
   "metadata": {},
   "outputs": [],
   "source": [
    "#a=pd.DataFrame(X_test)"
   ]
  },
  {
   "cell_type": "code",
   "execution_count": 11,
   "metadata": {},
   "outputs": [
    {
     "data": {
      "text/plain": [
       "array([0, 0, 0, 0, 0, 0, 0, 0, 0, 0, 0, 0, 0, 0, 0, 0, 0, 0, 0, 0, 0, 0,\n",
       "       0, 0, 0, 0, 0, 0, 0, 0, 0, 0, 0, 0, 0, 0, 0, 0, 0, 0])"
      ]
     },
     "execution_count": 11,
     "metadata": {},
     "output_type": "execute_result"
    }
   ],
   "source": [
    "y_pred"
   ]
  },
  {
   "cell_type": "code",
   "execution_count": 12,
   "metadata": {},
   "outputs": [],
   "source": [
    "y_pred_prob=classifier.predict_proba(X_test)"
   ]
  },
  {
   "cell_type": "code",
   "execution_count": 13,
   "metadata": {},
   "outputs": [
    {
     "data": {
      "text/plain": [
       "array([[0.54402342, 0.45597658],\n",
       "       [0.55037957, 0.44962043],\n",
       "       [0.54547611, 0.45452389],\n",
       "       [0.545838  , 0.454162  ],\n",
       "       [0.55113943, 0.44886057],\n",
       "       [0.55993676, 0.44006324],\n",
       "       [0.5600547 , 0.4399453 ],\n",
       "       [0.52953358, 0.47046642],\n",
       "       [0.5513716 , 0.4486284 ],\n",
       "       [0.54968398, 0.45031602],\n",
       "       [0.55263147, 0.44736853],\n",
       "       [0.55178068, 0.44821932],\n",
       "       [0.549501  , 0.450499  ],\n",
       "       [0.54400694, 0.45599306],\n",
       "       [0.54678832, 0.45321168],\n",
       "       [0.53669965, 0.46330035],\n",
       "       [0.54451477, 0.45548523],\n",
       "       [0.54726863, 0.45273137],\n",
       "       [0.52787789, 0.47212211],\n",
       "       [0.55746657, 0.44253343],\n",
       "       [0.55181816, 0.44818184],\n",
       "       [0.52672734, 0.47327266],\n",
       "       [0.54939305, 0.45060695],\n",
       "       [0.53561057, 0.46438943],\n",
       "       [0.55914252, 0.44085748],\n",
       "       [0.526901  , 0.473099  ],\n",
       "       [0.54453125, 0.45546875],\n",
       "       [0.54586503, 0.45413497],\n",
       "       [0.5479155 , 0.4520845 ],\n",
       "       [0.54374242, 0.45625758],\n",
       "       [0.54608121, 0.45391879],\n",
       "       [0.54406102, 0.45593898],\n",
       "       [0.54329318, 0.45670682],\n",
       "       [0.54995381, 0.45004619],\n",
       "       [0.55211471, 0.44788529],\n",
       "       [0.55498891, 0.44501109],\n",
       "       [0.54741422, 0.45258578],\n",
       "       [0.55297591, 0.44702409],\n",
       "       [0.55576828, 0.44423172],\n",
       "       [0.55076184, 0.44923816]])"
      ]
     },
     "execution_count": 13,
     "metadata": {},
     "output_type": "execute_result"
    }
   ],
   "source": [
    "y_pred_prob"
   ]
  },
  {
   "cell_type": "code",
   "execution_count": 20,
   "metadata": {},
   "outputs": [
    {
     "data": {
      "text/plain": [
       "array([0, 0, 0, 0, 0, 0, 0, 1, 0, 0, 0, 0, 0, 0, 0, 0, 0, 0, 1, 0, 0, 1,\n",
       "       0, 1, 0, 1, 0, 0, 0, 0, 0, 1, 1, 0, 0, 0, 0, 0, 0, 1])"
      ]
     },
     "execution_count": 20,
     "metadata": {},
     "output_type": "execute_result"
    }
   ],
   "source": [
    "y_test"
   ]
  },
  {
   "cell_type": "code",
   "execution_count": 21,
   "metadata": {},
   "outputs": [
    {
     "data": {
      "text/plain": [
       "array([0, 0, 0, 0, 0, 0, 0, 0, 0, 0, 0, 0, 0, 0, 0, 0, 0, 0, 0, 0, 0, 0,\n",
       "       0, 0, 0, 0, 0, 0, 0, 0, 0, 0, 0, 0, 0, 0, 0, 0, 0, 0])"
      ]
     },
     "execution_count": 21,
     "metadata": {},
     "output_type": "execute_result"
    }
   ],
   "source": [
    "y_pred"
   ]
  },
  {
   "cell_type": "code",
   "execution_count": null,
   "metadata": {},
   "outputs": [],
   "source": []
  },
  {
   "cell_type": "code",
   "execution_count": 25,
   "metadata": {},
   "outputs": [
    {
     "data": {
      "text/plain": [
       "array([[32,  0],\n",
       "       [ 8,  0]])"
      ]
     },
     "execution_count": 25,
     "metadata": {},
     "output_type": "execute_result"
    }
   ],
   "source": [
    "# Making the Confusion Matrix\n",
    "from sklearn.metrics import confusion_matrix, accuracy_score\n",
    "confusion_matrix(y_test, y_pred)"
   ]
  },
  {
   "cell_type": "code",
   "execution_count": 24,
   "metadata": {},
   "outputs": [
    {
     "data": {
      "text/plain": [
       "0.8"
      ]
     },
     "execution_count": 24,
     "metadata": {},
     "output_type": "execute_result"
    }
   ],
   "source": [
    "accuracy_score(y_test, y_pred)"
   ]
  },
  {
   "cell_type": "code",
   "execution_count": 24,
   "metadata": {},
   "outputs": [
    {
     "data": {
      "text/plain": [
       "array([0, 0, 0, 0, 0, 0, 0, 1, 0, 0, 0, 0, 0, 0, 0, 0, 0, 0, 1, 0, 0, 1,\n",
       "       0, 1, 0, 1, 0, 0, 0, 0, 0, 1, 1, 0, 0, 0, 0, 0, 0, 1])"
      ]
     },
     "execution_count": 24,
     "metadata": {},
     "output_type": "execute_result"
    }
   ],
   "source": [
    "y_test"
   ]
  },
  {
   "cell_type": "code",
   "execution_count": 25,
   "metadata": {},
   "outputs": [
    {
     "data": {
      "text/plain": [
       "array([0, 0, 0, 0, 0, 0, 0, 0, 0, 0, 0, 0, 0, 0, 0, 0, 0, 0, 0, 0, 0, 0,\n",
       "       0, 0, 0, 0, 0, 0, 0, 0, 0, 0, 0, 0, 0, 0, 0, 0, 0, 0])"
      ]
     },
     "execution_count": 25,
     "metadata": {},
     "output_type": "execute_result"
    }
   ],
   "source": [
    "y_pred"
   ]
  },
  {
   "cell_type": "code",
   "execution_count": 14,
   "metadata": {},
   "outputs": [],
   "source": [
    "from sklearn.preprocessing import StandardScaler\n",
    "sc = StandardScaler()\n",
    "X_train = sc.fit_transform(X_train)\n",
    "X_test = sc.transform(X_test)"
   ]
  },
  {
   "cell_type": "code",
   "execution_count": 15,
   "metadata": {},
   "outputs": [
    {
     "data": {
      "text/plain": [
       "array([[-1.05714987,  0.53420426],\n",
       "       [ 0.2798728 , -0.51764734],\n",
       "       [-1.05714987,  0.41733186],\n",
       "       [-0.29313691, -1.45262654],\n",
       "       [ 0.47087604,  1.23543867],\n",
       "       [-1.05714987, -0.34233874],\n",
       "       [-0.10213368,  0.30045946],\n",
       "       [ 1.33039061,  0.59264046],\n",
       "       [-1.15265148, -1.16044554],\n",
       "       [ 1.04388575,  0.47576806],\n",
       "       [ 1.8078987 ,  1.52761967],\n",
       "       [-0.38863853, -1.30653604],\n",
       "       [-0.29313691, -0.37155684],\n",
       "       [-0.38863853,  1.32309297],\n",
       "       [ 1.99890194,  0.53420426],\n",
       "       [ 0.66187928, -1.10200934],\n",
       "       [-0.86614663,  0.38811376],\n",
       "       [-1.15265148,  0.30045946],\n",
       "       [ 1.04388575, -1.21888174],\n",
       "       [-1.43915634, -1.45262654],\n",
       "       [-0.57964177, -1.51106275],\n",
       "       [ 2.09440356, -0.80982834],\n",
       "       [-1.82116282,  0.18358706],\n",
       "       [-0.19763529,  0.85560337],\n",
       "       [-1.82116282, -1.27731794],\n",
       "       [ 2.09440356,  0.38811376],\n",
       "       [-1.34365472,  0.56342236],\n",
       "       [-1.05714987, -0.34233874],\n",
       "       [ 0.18437118, -0.66373784],\n",
       "       [ 0.37537442,  0.00827846],\n",
       "       [-0.57964177,  2.34572647],\n",
       "       [-0.29313691,  0.21280516],\n",
       "       [-1.53465796, -0.19624824],\n",
       "       [ 0.66187928, -1.39419034],\n",
       "       [-1.05714987,  0.56342236],\n",
       "       [-1.91666444,  0.35889566],\n",
       "       [ 0.37537442,  0.27124136],\n",
       "       [ 0.18437118, -0.28390254],\n",
       "       [ 1.42589223, -1.04357314],\n",
       "       [ 0.85288251,  1.08934817],\n",
       "       [ 1.90340032,  2.17041787],\n",
       "       [ 1.99890194,  0.38811376],\n",
       "       [-1.34365472, -0.42999304],\n",
       "       [-1.15265148, -1.01435504],\n",
       "       [ 1.90340032, -0.92670074],\n",
       "       [ 0.37537442,  0.30045946],\n",
       "       [ 0.18437118,  0.15436896],\n",
       "       [ 1.99890194,  1.76136447],\n",
       "       [ 0.75738089, -0.83904644],\n",
       "       [ 0.2798728 , -0.28390254],\n",
       "       [ 0.37537442, -0.16703014],\n",
       "       [-0.10213368,  2.22885407],\n",
       "       [-1.43915634, -0.63451974],\n",
       "       [-1.2481531 , -1.07279124],\n",
       "       [-1.34365472,  0.41733186],\n",
       "       [-1.05714987,  0.76794907],\n",
       "       [-1.43915634, -0.19624824],\n",
       "       [ 0.94838413, -1.07279124],\n",
       "       [ 0.94838413,  0.59264046],\n",
       "       [ 0.37537442,  1.00169387],\n",
       "       [ 0.56637766, -0.89748264],\n",
       "       [-0.57964177,  1.46918347],\n",
       "       [-0.00663206, -0.57608354],\n",
       "       [-0.57964177,  1.90745497],\n",
       "       [ 1.33039061, -1.42340844],\n",
       "       [ 1.42589223,  1.00169387],\n",
       "       [ 0.08886956, -0.80982834],\n",
       "       [-0.00663206, -0.25468444],\n",
       "       [-0.19763529, -0.57608354],\n",
       "       [-0.19763529, -0.19624824],\n",
       "       [-0.29313691, -1.30653604],\n",
       "       [-0.29313691, -0.57608354],\n",
       "       [ 0.37537442,  0.09593276],\n",
       "       [ 0.85288251, -0.60530164],\n",
       "       [ 1.99890194, -1.18966364],\n",
       "       [ 1.04388575, -0.13781204],\n",
       "       [ 0.66187928,  1.79058257],\n",
       "       [-0.67514339,  0.56342236],\n",
       "       [ 0.75738089,  0.35889566],\n",
       "       [ 0.85288251, -0.54686544],\n",
       "       [-1.15265148, -1.59871705],\n",
       "       [ 2.09440356,  0.94325767],\n",
       "       [-0.00663206,  1.23543867],\n",
       "       [ 0.18437118,  1.08934817],\n",
       "       [ 0.37537442, -0.48842924],\n",
       "       [-0.29313691, -0.31312064],\n",
       "       [ 0.94838413, -0.83904644],\n",
       "       [ 0.94838413,  1.87823687],\n",
       "       [-0.00663206,  1.26465677],\n",
       "       [-0.86614663,  2.28729027],\n",
       "       [-1.15265148, -1.59871705],\n",
       "       [ 2.09440356, -0.80982834],\n",
       "       [-1.34365472, -1.48184464],\n",
       "       [ 0.37537442,  2.31650837],\n",
       "       [ 0.75738089,  0.76794907],\n",
       "       [-0.96164825, -0.31312064],\n",
       "       [ 0.08886956,  0.76794907],\n",
       "       [-0.96164825,  0.56342236],\n",
       "       [ 0.2798728 ,  0.06671466],\n",
       "       [ 0.66187928, -1.27731794],\n",
       "       [-0.48414015, -0.02093964],\n",
       "       [-1.7256612 ,  0.35889566],\n",
       "       [-0.67514339,  0.12515086],\n",
       "       [ 0.37537442,  0.30045946],\n",
       "       [-0.29313691,  0.06671466],\n",
       "       [-0.48414015,  2.31650837],\n",
       "       [ 0.18437118,  0.03749656],\n",
       "       [ 1.23488899,  2.22885407],\n",
       "       [ 0.75738089,  0.27124136],\n",
       "       [-0.29313691,  0.15436896],\n",
       "       [-0.00663206, -0.54686544],\n",
       "       [-0.19763529,  0.15436896],\n",
       "       [-0.10213368,  0.24202326],\n",
       "       [-0.00663206, -0.25468444],\n",
       "       [ 2.09440356,  1.11856627],\n",
       "       [-1.7256612 ,  0.35889566],\n",
       "       [ 1.8078987 ,  0.12515086],\n",
       "       [ 0.37537442, -0.13781204],\n",
       "       [-1.15265148,  0.30045946],\n",
       "       [ 0.75738089,  1.38152917],\n",
       "       [-0.29313691, -0.25468444],\n",
       "       [-1.63015958, -0.05015774],\n",
       "       [-0.96164825, -0.75139214],\n",
       "       [ 0.2798728 ,  0.50498616],\n",
       "       [-0.10213368, -1.07279124],\n",
       "       [-1.05714987,  0.59264046],\n",
       "       [ 0.08886956, -0.80982834],\n",
       "       [-0.96164825,  1.55683777],\n",
       "       [-0.67514339,  1.41074727],\n",
       "       [-1.2481531 ,  0.50498616],\n",
       "       [-0.29313691,  0.03749656],\n",
       "       [-0.10213368,  0.00827846],\n",
       "       [-0.29313691, -0.89748264],\n",
       "       [ 0.85288251, -1.36497224],\n",
       "       [-0.29313691,  2.25807217],\n",
       "       [ 0.94838413,  1.99510927],\n",
       "       [-1.15265148,  0.47576806],\n",
       "       [-1.2481531 ,  0.27124136],\n",
       "       [ 1.33039061,  1.99510927],\n",
       "       [ 1.23488899, -1.36497224],\n",
       "       [-0.29313691, -0.28390254],\n",
       "       [-0.48414015,  1.26465677],\n",
       "       [-0.77064501,  1.08934817],\n",
       "       [ 0.94838413, -1.07279124],\n",
       "       [ 0.2798728 ,  0.30045946],\n",
       "       [ 0.94838413,  0.76794907],\n",
       "       [-0.67514339, -1.51106275],\n",
       "       [-0.67514339,  0.03749656],\n",
       "       [ 0.47087604,  1.73214637],\n",
       "       [ 1.99890194,  0.18358706],\n",
       "       [-1.91666444, -0.75139214],\n",
       "       [-0.19763529,  1.41074727],\n",
       "       [ 0.37537442,  0.59264046],\n",
       "       [ 0.85288251, -1.16044554],\n",
       "       [-1.15265148, -0.78061024],\n",
       "       [ 0.18437118,  0.24202326],\n",
       "       [ 0.75738089, -0.31312064],\n",
       "       [ 1.99890194, -0.80982834],\n",
       "       [ 0.75738089,  0.12515086],\n",
       "       [-0.29313691,  0.62185856],\n",
       "       [-0.96164825, -0.31312064],\n",
       "       [ 0.18437118, -0.37155684],\n",
       "       [ 1.99890194,  2.14119977],\n",
       "       [ 1.8078987 , -1.27731794],\n",
       "       [ 1.33039061, -0.92670074],\n",
       "       [ 0.85288251,  1.26465677],\n",
       "       [ 1.42589223,  2.14119977],\n",
       "       [-0.29313691, -1.24809984],\n",
       "       [ 1.90340032,  0.91403957],\n",
       "       [ 0.66187928, -0.72217404],\n",
       "       [-1.43915634,  0.35889566],\n",
       "       [ 0.75738089, -1.36497224],\n",
       "       [ 0.37537442, -0.13781204],\n",
       "       [-0.96164825,  0.41733186],\n",
       "       [-0.00663206, -0.31312064],\n",
       "       [-1.15265148,  0.41733186],\n",
       "       [-0.86614663, -1.21888174],\n",
       "       [-0.10213368,  0.03749656],\n",
       "       [-1.53465796, -0.42999304],\n",
       "       [ 0.94838413, -1.01435504],\n",
       "       [ 1.04388575, -1.21888174],\n",
       "       [-0.00663206, -0.13781204],\n",
       "       [-1.05714987, -1.54028085],\n",
       "       [ 0.75738089, -1.21888174],\n",
       "       [ 0.94838413,  2.08276357],\n",
       "       [-1.15265148, -1.54028085],\n",
       "       [-0.29313691,  0.79716717],\n",
       "       [ 0.08886956, -0.31312064],\n",
       "       [-1.34365472, -1.24809984],\n",
       "       [-0.57964177, -1.51106275],\n",
       "       [ 0.75738089,  0.53420426],\n",
       "       [-0.29313691, -0.34233874],\n",
       "       [ 1.71239708, -0.28390254],\n",
       "       [ 0.85288251, -1.04357314],\n",
       "       [ 0.18437118,  0.06671466],\n",
       "       [-0.57964177,  0.88482147],\n",
       "       [-1.82116282, -1.42340844],\n",
       "       [-1.2481531 ,  0.59264046],\n",
       "       [-0.29313691,  0.53420426],\n",
       "       [-0.96164825, -1.10200934],\n",
       "       [ 1.13938737, -1.45262654],\n",
       "       [ 0.18437118, -0.31312064],\n",
       "       [ 1.13938737, -0.75139214],\n",
       "       [-0.29313691,  0.06671466],\n",
       "       [ 0.18437118,  2.11198167],\n",
       "       [ 0.75738089, -1.10200934],\n",
       "       [ 0.08886956,  0.03749656],\n",
       "       [-1.7256612 ,  0.12515086],\n",
       "       [-0.86614663,  0.15436896],\n",
       "       [-0.67514339,  0.18358706],\n",
       "       [ 0.85288251, -1.30653604],\n",
       "       [ 0.18437118, -0.25468444],\n",
       "       [-0.38863853,  1.23543867],\n",
       "       [-0.00663206,  0.30045946],\n",
       "       [ 0.37537442,  0.15436896],\n",
       "       [ 0.85288251, -0.66373784],\n",
       "       [ 0.08886956,  0.15436896],\n",
       "       [-1.82116282, -1.30653604],\n",
       "       [-0.10213368,  0.30045946],\n",
       "       [-0.19763529, -0.28390254],\n",
       "       [ 0.2798728 , -0.51764734],\n",
       "       [-0.19763529,  1.61527397],\n",
       "       [ 0.94838413, -1.18966364],\n",
       "       [-0.19763529,  1.64449207],\n",
       "       [ 1.23488899,  1.87823687],\n",
       "       [-1.05714987, -0.37155684],\n",
       "       [-0.00663206,  0.03749656],\n",
       "       [ 0.08886956, -0.25468444],\n",
       "       [-1.53465796, -1.24809984],\n",
       "       [-0.48414015, -0.28390254],\n",
       "       [ 0.94838413,  0.12515086],\n",
       "       [ 1.90340032, -1.36497224],\n",
       "       [ 1.42589223,  0.06671466],\n",
       "       [-0.57964177,  1.38152917],\n",
       "       [ 1.52139385,  0.00827846],\n",
       "       [-0.77064501,  0.30045946],\n",
       "       [ 1.90340032,  0.73873096],\n",
       "       [-1.15265148, -0.51764734],\n",
       "       [ 0.66187928,  0.27124136],\n",
       "       [-1.34365472, -0.42999304],\n",
       "       [ 0.18437118,  0.15436896],\n",
       "       [-0.48414015, -1.21888174],\n",
       "       [ 0.56637766,  2.02432737],\n",
       "       [-1.53465796, -1.51106275],\n",
       "       [-0.48414015, -0.54686544],\n",
       "       [ 0.47087604,  1.84901877],\n",
       "       [-1.34365472, -1.10200934],\n",
       "       [ 0.75738089, -1.39419034],\n",
       "       [-0.29313691, -0.42999304],\n",
       "       [ 1.52139385,  1.00169387],\n",
       "       [ 0.94838413,  1.43996537],\n",
       "       [-0.29313691, -0.48842924],\n",
       "       [-0.10213368,  2.17041787],\n",
       "       [-1.43915634, -0.10859394],\n",
       "       [-0.10213368,  1.96589117],\n",
       "       [-0.67514339, -0.34233874],\n",
       "       [-0.48414015, -0.83904644],\n",
       "       [ 0.66187928, -1.39419034],\n",
       "       [-0.77064501, -1.59871705],\n",
       "       [-1.82116282, -1.48184464],\n",
       "       [ 1.04388575,  0.12515086],\n",
       "       [ 0.08886956,  1.52761967],\n",
       "       [-0.29313691,  0.09593276],\n",
       "       [ 0.08886956,  0.03749656],\n",
       "       [-1.34365472, -1.36497224],\n",
       "       [ 0.2798728 ,  0.06671466],\n",
       "       [-0.86614663,  0.38811376],\n",
       "       [ 1.52139385, -1.27731794],\n",
       "       [-0.29313691, -0.75139214],\n",
       "       [-0.10213368,  0.15436896],\n",
       "       [-0.86614663, -0.66373784],\n",
       "       [-0.67514339, -0.05015774],\n",
       "       [ 0.37537442, -0.45921114],\n",
       "       [-0.77064501,  1.90745497],\n",
       "       [ 1.33039061,  1.29387487],\n",
       "       [ 1.13938737, -0.98513694],\n",
       "       [ 1.71239708,  1.84901877],\n",
       "       [-0.86614663, -0.25468444],\n",
       "       [-0.77064501,  0.56342236],\n",
       "       [-1.15265148, -1.56949895],\n",
       "       [-0.48414015, -1.13122744],\n",
       "       [ 0.2798728 ,  0.06671466],\n",
       "       [-0.19763529, -1.07279124],\n",
       "       [ 1.61689547,  1.61527397],\n",
       "       [ 0.94838413,  1.79058257],\n",
       "       [ 0.2798728 ,  0.03749656],\n",
       "       [-0.77064501, -0.22546634],\n",
       "       [-0.10213368,  0.06671466],\n",
       "       [ 0.2798728 , -0.19624824],\n",
       "       [ 1.90340032, -0.66373784],\n",
       "       [-0.77064501,  1.35231107],\n",
       "       [-1.7256612 , -0.60530164],\n",
       "       [-0.10213368,  0.12515086],\n",
       "       [ 0.2798728 , -0.31312064],\n",
       "       [ 1.04388575,  0.56342236],\n",
       "       [-0.96164825,  0.27124136],\n",
       "       [ 1.42589223,  0.35889566],\n",
       "       [ 0.18437118, -0.37155684],\n",
       "       [ 2.09440356, -1.04357314],\n",
       "       [-0.29313691,  1.11856627],\n",
       "       [-1.63015958,  0.06671466],\n",
       "       [-0.00663206,  0.03749656],\n",
       "       [ 0.08886956,  1.06013007],\n",
       "       [-0.10213368, -0.37155684],\n",
       "       [-1.15265148,  0.06671466],\n",
       "       [-0.29313691, -1.36497224],\n",
       "       [ 1.52139385,  1.11856627],\n",
       "       [-0.77064501, -1.54028085],\n",
       "       [ 0.08886956,  1.87823687],\n",
       "       [-0.86614663, -0.78061024],\n",
       "       [-0.48414015, -0.78061024],\n",
       "       [-0.29313691, -0.92670074],\n",
       "       [ 0.2798728 , -0.72217404],\n",
       "       [ 0.2798728 ,  0.06671466],\n",
       "       [ 0.08886956,  1.87823687],\n",
       "       [-1.05714987,  1.96589117],\n",
       "       [-1.63015958, -1.56949895],\n",
       "       [-1.15265148, -1.10200934],\n",
       "       [-0.67514339, -0.10859394],\n",
       "       [ 0.08886956,  0.09593276],\n",
       "       [ 0.2798728 ,  0.27124136],\n",
       "       [ 0.85288251, -0.57608354],\n",
       "       [ 0.2798728 , -1.16044554],\n",
       "       [-0.10213368,  0.68029476],\n",
       "       [ 2.09440356, -0.69295594],\n",
       "       [-1.2481531 , -1.39419034],\n",
       "       [-0.96164825, -0.95591884],\n",
       "       [-0.00663206, -0.42999304],\n",
       "       [-0.19763529, -0.45921114],\n",
       "       [-1.7256612 , -0.98513694],\n",
       "       [ 1.71239708,  1.00169387],\n",
       "       [ 0.18437118, -0.37155684],\n",
       "       [ 0.37537442,  1.11856627],\n",
       "       [-1.7256612 , -1.36497224],\n",
       "       [ 0.18437118, -0.13781204],\n",
       "       [ 0.85288251, -1.45262654],\n",
       "       [-1.91666444,  0.47576806],\n",
       "       [-0.29313691,  0.27124136],\n",
       "       [ 1.8078987 , -1.07279124],\n",
       "       [-0.38863853,  0.06671466],\n",
       "       [ 1.04388575, -0.89748264],\n",
       "       [-1.05714987, -1.13122744],\n",
       "       [-1.82116282,  0.00827846],\n",
       "       [ 0.08886956,  0.27124136],\n",
       "       [-1.15265148,  0.32967756],\n",
       "       [-1.2481531 ,  0.30045946],\n",
       "       [-0.96164825,  0.44654996],\n",
       "       [ 1.61689547, -0.89748264],\n",
       "       [ 1.13938737,  0.53420426],\n",
       "       [ 1.04388575,  0.53420426],\n",
       "       [ 1.33039061,  2.34572647],\n",
       "       [-0.29313691, -0.13781204],\n",
       "       [ 0.37537442, -0.45921114],\n",
       "       [-0.38863853, -0.78061024],\n",
       "       [-0.10213368, -0.51764734],\n",
       "       [ 0.94838413, -1.16044554],\n",
       "       [-0.86614663, -0.78061024],\n",
       "       [-0.19763529, -0.51764734],\n",
       "       [-1.05714987, -0.45921114],\n",
       "       [-1.15265148,  1.41074727]])"
      ]
     },
     "execution_count": 15,
     "metadata": {},
     "output_type": "execute_result"
    }
   ],
   "source": [
    "X_train"
   ]
  },
  {
   "cell_type": "code",
   "execution_count": 16,
   "metadata": {},
   "outputs": [
    {
     "name": "stderr",
     "output_type": "stream",
     "text": [
      "/home/shyam/anaconda3/lib/python3.7/site-packages/sklearn/linear_model/logistic.py:432: FutureWarning: Default solver will be changed to 'lbfgs' in 0.22. Specify a solver to silence this warning.\n",
      "  FutureWarning)\n"
     ]
    },
    {
     "data": {
      "text/plain": [
       "LogisticRegression(C=1.0, class_weight=None, dual=False, fit_intercept=True,\n",
       "                   intercept_scaling=1, l1_ratio=None, max_iter=100,\n",
       "                   multi_class='warn', n_jobs=None, penalty='l2',\n",
       "                   random_state=None, solver='warn', tol=0.0001, verbose=0,\n",
       "                   warm_start=False)"
      ]
     },
     "execution_count": 16,
     "metadata": {},
     "output_type": "execute_result"
    }
   ],
   "source": [
    "from sklearn.linear_model import LogisticRegression\n",
    "classifier1 = LogisticRegression()\n",
    "classifier1.fit(X_train, y_train)"
   ]
  },
  {
   "cell_type": "code",
   "execution_count": 20,
   "metadata": {},
   "outputs": [],
   "source": [
    "y_pred1=classifier1.predict(X_test)"
   ]
  },
  {
   "cell_type": "code",
   "execution_count": 21,
   "metadata": {},
   "outputs": [
    {
     "data": {
      "text/plain": [
       "array([0, 0, 0, 0, 0, 0, 0, 1, 0, 1, 0, 0, 0, 0, 0, 0, 0, 0, 1, 0, 0, 1,\n",
       "       0, 1, 0, 1, 0, 0, 0, 0, 0, 0, 1, 0, 0, 0, 0, 0, 0, 1])"
      ]
     },
     "execution_count": 21,
     "metadata": {},
     "output_type": "execute_result"
    }
   ],
   "source": [
    "y_pred1"
   ]
  },
  {
   "cell_type": "code",
   "execution_count": 22,
   "metadata": {},
   "outputs": [
    {
     "data": {
      "text/plain": [
       "array([0, 0, 0, 0, 0, 0, 0, 1, 0, 0, 0, 0, 0, 0, 0, 0, 0, 0, 1, 0, 0, 1,\n",
       "       0, 1, 0, 1, 0, 0, 0, 0, 0, 1, 1, 0, 0, 0, 0, 0, 0, 1])"
      ]
     },
     "execution_count": 22,
     "metadata": {},
     "output_type": "execute_result"
    }
   ],
   "source": [
    "y_test"
   ]
  },
  {
   "cell_type": "code",
   "execution_count": 26,
   "metadata": {},
   "outputs": [
    {
     "data": {
      "text/plain": [
       "array([[31,  1],\n",
       "       [ 1,  7]])"
      ]
     },
     "execution_count": 26,
     "metadata": {},
     "output_type": "execute_result"
    }
   ],
   "source": [
    "confusion_matrix(y_test,y_pred1)"
   ]
  },
  {
   "cell_type": "code",
   "execution_count": 27,
   "metadata": {},
   "outputs": [
    {
     "data": {
      "text/plain": [
       "0.95"
      ]
     },
     "execution_count": 27,
     "metadata": {},
     "output_type": "execute_result"
    }
   ],
   "source": [
    "accuracy_score(y_test,y_pred1)"
   ]
  },
  {
   "cell_type": "code",
   "execution_count": 28,
   "metadata": {},
   "outputs": [],
   "source": [
    "y_pred_prob1=classifier1.predict_proba(X_test)"
   ]
  },
  {
   "cell_type": "code",
   "execution_count": 29,
   "metadata": {},
   "outputs": [
    {
     "data": {
      "text/plain": [
       "array([[0.88213607, 0.11786393],\n",
       "       [0.82289204, 0.17710796],\n",
       "       [0.79666119, 0.20333881],\n",
       "       [0.90585056, 0.09414944],\n",
       "       [0.89571355, 0.10428645],\n",
       "       [0.9912579 , 0.0087421 ],\n",
       "       [0.98318606, 0.01681394],\n",
       "       [0.2678345 , 0.7321655 ],\n",
       "       [0.99373824, 0.00626176],\n",
       "       [0.47816462, 0.52183538],\n",
       "       [0.96105567, 0.03894433],\n",
       "       [0.96854164, 0.03145836],\n",
       "       [0.82975409, 0.17024591],\n",
       "       [0.61858431, 0.38141569],\n",
       "       [0.98357288, 0.01642712],\n",
       "       [0.65955196, 0.34044804],\n",
       "       [0.70954038, 0.29045962],\n",
       "       [0.98698381, 0.01301619],\n",
       "       [0.01145999, 0.98854001],\n",
       "       [0.9538933 , 0.0461067 ],\n",
       "       [0.90418979, 0.09581021],\n",
       "       [0.03702309, 0.96297691],\n",
       "       [0.70894277, 0.29105723],\n",
       "       [0.11567837, 0.88432163],\n",
       "       [0.99502759, 0.00497241],\n",
       "       [0.02728097, 0.97271903],\n",
       "       [0.91852139, 0.08147861],\n",
       "       [0.91963504, 0.08036496],\n",
       "       [0.79642636, 0.20357364],\n",
       "       [0.83679927, 0.16320073],\n",
       "       [0.97864033, 0.02135967],\n",
       "       [0.69643082, 0.30356918],\n",
       "       [0.064816  , 0.935184  ],\n",
       "       [0.83844174, 0.16155826],\n",
       "       [0.98451312, 0.01548688],\n",
       "       [0.99620158, 0.00379842],\n",
       "       [0.97895111, 0.02104889],\n",
       "       [0.92923929, 0.07076071],\n",
       "       [0.96988192, 0.03011808],\n",
       "       [0.43113358, 0.56886642]])"
      ]
     },
     "execution_count": 29,
     "metadata": {},
     "output_type": "execute_result"
    }
   ],
   "source": [
    "y_pred_prob1"
   ]
  },
  {
   "cell_type": "code",
   "execution_count": null,
   "metadata": {},
   "outputs": [],
   "source": []
  },
  {
   "cell_type": "code",
   "execution_count": 35,
   "metadata": {
    "scrolled": true
   },
   "outputs": [
    {
     "data": {
      "text/plain": [
       "<matplotlib.axes._subplots.AxesSubplot at 0x7fdf95e77da0>"
      ]
     },
     "execution_count": 35,
     "metadata": {},
     "output_type": "execute_result"
    },
    {
     "data": {
      "image/png": "[encoded data removed]",
      "text/plain": [
       "<Figure size 432x288 with 1 Axes>"
      ]
     },
     "metadata": {
      "needs_background": "light"
     },
     "output_type": "display_data"
    }
   ],
   "source": [
    "import seaborn as sb\n",
    "sb.regplot(y_test,y_pred_prob1[:,0], logistic=True)"
   ]
  },
  {
   "cell_type": "code",
   "execution_count": null,
   "metadata": {},
   "outputs": [],
   "source": []
  },
  {
   "cell_type": "code",
   "execution_count": null,
   "metadata": {},
   "outputs": [],
   "source": []
  },
  {
   "cell_type": "code",
   "execution_count": null,
   "metadata": {},
   "outputs": [],
   "source": []
  },
  {
   "cell_type": "code",
   "execution_count": null,
   "metadata": {},
   "outputs": [],
   "source": []
  },
  {
   "cell_type": "code",
   "execution_count": 38,
   "metadata": {},
   "outputs": [],
   "source": [
    "from sklearn.metrics import roc_auc_score, roc_curve"
   ]
  },
  {
   "cell_type": "code",
   "execution_count": 39,
   "metadata": {},
   "outputs": [],
   "source": [
    "fpr, tpr, thresholds=roc_curve(y_test, y_pred_prob1[:,1])"
   ]
  },
  {
   "cell_type": "code",
   "execution_count": 40,
   "metadata": {},
   "outputs": [
    {
     "data": {
      "text/plain": [
       "array([0.     , 0.     , 0.     , 0.09375, 0.09375, 1.     ])"
      ]
     },
     "execution_count": 40,
     "metadata": {},
     "output_type": "execute_result"
    }
   ],
   "source": [
    "fpr"
   ]
  },
  {
   "cell_type": "code",
   "execution_count": 41,
   "metadata": {},
   "outputs": [
    {
     "data": {
      "text/plain": [
       "array([0.   , 0.125, 0.875, 0.875, 1.   , 1.   ])"
      ]
     },
     "execution_count": 41,
     "metadata": {},
     "output_type": "execute_result"
    }
   ],
   "source": [
    "tpr"
   ]
  },
  {
   "cell_type": "code",
   "execution_count": 42,
   "metadata": {},
   "outputs": [],
   "source": [
    "auc=roc_auc_score(y_test,y_pred1)"
   ]
  },
  {
   "cell_type": "code",
   "execution_count": 43,
   "metadata": {},
   "outputs": [
    {
     "data": {
      "image/png": "[encoded data removed]",
      "text/plain": [
       "<Figure size 432x288 with 1 Axes>"
      ]
     },
     "metadata": {
      "needs_background": "light"
     },
     "output_type": "display_data"
    }
   ],
   "source": [
    "import matplotlib.pyplot as plt\n",
    "plt.figure()\n",
    "plt.plot(fpr,tpr,label='Logistic Regression(Sensitivity=%0.3f)'%auc)\n",
    "plt.plot([0,1],[0,1],'r--')\n",
    "plt.xlim([0.0,1.0])\n",
    "plt.ylim([0.0,1.05])\n",
    "plt.xlabel('False Positive Rate')\n",
    "plt.ylabel('True Positive Rate')\n",
    "plt.legend(loc=4)\n",
    "plt.show()"
   ]
  },
  {
   "cell_type": "code",
   "execution_count": 44,
   "metadata": {},
   "outputs": [
    {
     "data": {
      "text/plain": [
       "array([[0.11786393, 0.17710796, 0.20333881, 0.09414944, 0.10428645,\n",
       "        0.0087421 , 0.01681394, 0.7321655 , 0.00626176, 0.52183538,\n",
       "        0.03894433, 0.03145836, 0.17024591, 0.38141569, 0.01642712,\n",
       "        0.34044804, 0.29045962, 0.01301619, 0.98854001, 0.0461067 ,\n",
       "        0.09581021, 0.96297691, 0.29105723, 0.88432163, 0.00497241,\n",
       "        0.97271903, 0.08147861, 0.08036496, 0.20357364, 0.16320073,\n",
       "        0.02135967, 0.30356918, 0.935184  , 0.16155826, 0.01548688,\n",
       "        0.00379842, 0.02104889, 0.07076071, 0.03011808, 0.56886642]])"
      ]
     },
     "execution_count": 44,
     "metadata": {},
     "output_type": "execute_result"
    }
   ],
   "source": [
    "y_pred_prob=classifier1.predict_proba(X_test)[:,1]\n",
    "y_pred_prob=y_pred_prob.reshape(1,-1)\n",
    "y_pred_prob"
   ]
  },
  {
   "cell_type": "code",
   "execution_count": null,
   "metadata": {},
   "outputs": [],
   "source": []
  },
  {
   "cell_type": "code",
   "execution_count": 45,
   "metadata": {},
   "outputs": [],
   "source": [
    "from sklearn.preprocessing import binarize\n",
    "y_pred_class=binarize(y_pred_prob,0.55)[0]"
   ]
  },
  {
   "cell_type": "code",
   "execution_count": 46,
   "metadata": {},
   "outputs": [
    {
     "data": {
      "text/plain": [
       "array([0., 0., 0., 0., 0., 0., 0., 1., 0., 0., 0., 0., 0., 0., 0., 0., 0.,\n",
       "       0., 1., 0., 0., 1., 0., 1., 0., 1., 0., 0., 0., 0., 0., 0., 1., 0.,\n",
       "       0., 0., 0., 0., 0., 1.])"
      ]
     },
     "execution_count": 46,
     "metadata": {},
     "output_type": "execute_result"
    }
   ],
   "source": [
    "y_pred_class"
   ]
  },
  {
   "cell_type": "code",
   "execution_count": null,
   "metadata": {},
   "outputs": [],
   "source": []
  },
  {
   "cell_type": "code",
   "execution_count": 48,
   "metadata": {},
   "outputs": [],
   "source": [
    "y_pred_class=y_pred_class.astype(int)"
   ]
  },
  {
   "cell_type": "code",
   "execution_count": 49,
   "metadata": {},
   "outputs": [
    {
     "data": {
      "text/plain": [
       "array([[31,  1],\n",
       "       [ 1,  7]])"
      ]
     },
     "execution_count": 49,
     "metadata": {},
     "output_type": "execute_result"
    }
   ],
   "source": [
    "confusion_matrix(y_test,y_pred1)"
   ]
  },
  {
   "cell_type": "code",
   "execution_count": 50,
   "metadata": {},
   "outputs": [
    {
     "data": {
      "text/plain": [
       "array([[32,  0],\n",
       "       [ 1,  7]])"
      ]
     },
     "execution_count": 50,
     "metadata": {},
     "output_type": "execute_result"
    }
   ],
   "source": [
    "confusion_matrix(y_test,y_pred_class)"
   ]
  },
  {
   "cell_type": "code",
   "execution_count": 53,
   "metadata": {},
   "outputs": [
    {
     "data": {
      "text/plain": [
       "0.975"
      ]
     },
     "execution_count": 53,
     "metadata": {},
     "output_type": "execute_result"
    }
   ],
   "source": [
    "accuracy_score(y_test,y_pred_class)"
   ]
  }
 ],
 "metadata": {
  "kernelspec": {
   "display_name": "Python 3",
   "language": "python",
   "name": "python3"
  },
  "language_info": {
   "codemirror_mode": {
    "name": "ipython",
    "version": 3
   },
   "file_extension": ".py",
   "mimetype": "text/x-python",
   "name": "python",
   "nbconvert_exporter": "python",
   "pygments_lexer": "ipython3",
   "version": "3.7.3"
  }
 },
 "nbformat": 4,
 "nbformat_minor": 2
}
